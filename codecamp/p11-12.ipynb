{
 "cells": [
  {
   "cell_type": "markdown",
   "metadata": {},
   "source": [
    "# [Indexing](markdown/indexing.md)"
   ]
  },
  {
   "cell_type": "markdown",
   "metadata": {},
   "source": [
    "## [Part 12: Multi-representation Indexing](markdown/multi-representation-indexing.md)"
   ]
  },
  {
   "cell_type": "code",
   "execution_count": 8,
   "metadata": {},
   "outputs": [],
   "source": [
    "from langchain_community.document_loaders import WebBaseLoader\n",
    "from langchain_text_splitters import RecursiveCharacterTextSplitter\n",
    "\n",
    "loader = WebBaseLoader(\"https://lilianweng.github.io/posts/2023-06-23-agent/\")\n",
    "docs = loader.load()\n",
    "\n",
    "loader = WebBaseLoader(\"https://lilianweng.github.io/posts/2024-02-05-human-data-quality/\")\n",
    "docs.extend(loader.load())"
   ]
  },
  {
   "cell_type": "code",
   "execution_count": 9,
   "metadata": {},
   "outputs": [],
   "source": [
    "import uuid\n",
    "\n",
    "from langchain_core.documents import Document\n",
    "from langchain_core.output_parsers import StrOutputParser\n",
    "from langchain_core.prompts import ChatPromptTemplate\n",
    "from langchain_ollama import ChatOllama\n",
    "\n",
    "chain = (\n",
    "    {\"doc\": lambda x: x.page_content}\n",
    "    | ChatPromptTemplate.from_template(\"Summarize the following document:\\n\\n{doc}\")\n",
    "    | ChatOllama(model=\"llama3.1\",max_retries=0)\n",
    "    | StrOutputParser()\n",
    ")\n",
    "\n",
    "summaries = chain.batch(docs, {\"max_concurrency\": 5})"
   ]
  },
  {
   "cell_type": "code",
   "execution_count": 11,
   "metadata": {},
   "outputs": [],
   "source": [
    "from langchain.storage import InMemoryByteStore\n",
    "from langchain_ollama import OllamaEmbeddings\n",
    "from langchain_community.vectorstores import Chroma\n",
    "from langchain.retrievers.multi_vector import MultiVectorRetriever\n",
    "\n",
    "embeddings = OllamaEmbeddings(model='mxbai-embed-large')\n",
    "\n",
    "# The vectorstore to use to index the child chunks\n",
    "vectorstore = Chroma(collection_name=\"summaries\",\n",
    "                     embedding_function=embeddings)\n",
    "\n",
    "# The storage layer for the parent documents\n",
    "store = InMemoryByteStore()\n",
    "id_key = \"doc_id\"\n",
    "\n",
    "# The retriever\n",
    "retriever = MultiVectorRetriever(\n",
    "    vectorstore=vectorstore,\n",
    "    byte_store=store,\n",
    "    id_key=id_key,\n",
    ")\n",
    "doc_ids = [str(uuid.uuid4()) for _ in docs]\n",
    "\n",
    "# Docs linked to summaries\n",
    "summary_docs = [\n",
    "    Document(page_content=s, metadata={id_key: doc_ids[i]})\n",
    "    for i, s in enumerate(summaries)\n",
    "]\n",
    "\n",
    "# Add\n",
    "retriever.vectorstore.add_documents(summary_docs)\n",
    "retriever.docstore.mset(list(zip(doc_ids, docs)))\n"
   ]
  },
  {
   "cell_type": "code",
   "execution_count": 12,
   "metadata": {},
   "outputs": [
    {
     "data": {
      "text/plain": [
       "Document(metadata={'doc_id': '9d498e4b-6c5c-4d30-a1bd-ab1ee7c5b375'}, page_content=\"It appears that you provided a large block of text related to Large Language Models (LLMs) and their applications in autonomous agents. I'll provide a summary of the key points and suggestions for further development.\\n\\n**Summary**\\n\\nThe text discusses the challenges and limitations of current LLMs, including:\\n\\n1. **Steerability**: The ability to control and guide the behavior of LLMs is still a topic of research.\\n2. **Reliability of natural language interface**: The output of LLMs can be unreliable due to formatting errors or rebellious behavior.\\n3. **Planning and decision-making**: Current LLMs struggle with planning and adapting to unexpected situations.\\n\\nThe text also references various papers and studies on using LLMs in autonomous agents, including:\\n\\n1. Chain of thought prompting\\n2. Tree of Thoughts: Dliberate Problem Solving with Large Language Models\\n3. LLM+P: Empowering Large Language Models with Optimal Planning Proficiency\\n\\n**Suggestions for further development**\\n\\nBased on the provided text, it seems that there is a need to develop more robust and reliable methods for controlling and guiding LLMs in autonomous agents. Some potential areas of research could include:\\n\\n1. **Improving steerability**: Developing new techniques for controlling and guiding LLMs, such as using more advanced prompting methods or integrating multiple models.\\n2. **Enhancing reliability**: Investigating ways to improve the accuracy and reliability of natural language interfaces, potentially through better error handling or conflict resolution mechanisms.\\n3. **Advances in planning and decision-making**: Developing new algorithms and techniques for planning and adapting to unexpected situations, such as using multi-agent systems or graph-based approaches.\\n\\nTo address these challenges, it may be helpful to:\\n\\n1. **Develop more advanced prompting methods**: Investigate new ways of crafting prompts that can effectively guide LLMs towards desired behaviors.\\n2. **Integrate multiple models**: Explore the potential benefits of combining multiple LLMs with different strengths and weaknesses to create more robust and reliable agents.\\n3. **Design more robust interfaces**: Develop interfaces that can better handle errors and conflicts, allowing users to intervene when necessary.\\n\\n**Code development**\\n\\nBased on the provided text, it seems that there is a need for code development in several areas, including:\\n\\n1. **Developing autonomous agent frameworks**: Creating software frameworks that can effectively integrate LLMs with other components, such as memory and tools.\\n2. **Implementing advanced prompting methods**: Coding new prompt engineering techniques to improve the steerability of LLMs.\\n\\nTo start developing code for these tasks, you may want to begin by:\\n\\n1. **Reviewing relevant papers**: Familiarize yourself with existing research on LLMs in autonomous agents.\\n2. **Choosing a programming language**: Select a suitable programming language (e.g., Python) and relevant libraries or frameworks.\\n3. **Designing the architecture**: Plan the overall structure of your code, including how to integrate different components.\\n\\nPlease let me know if you would like me to elaborate on any of these points or if there is anything else I can help with!\")"
      ]
     },
     "execution_count": 12,
     "metadata": {},
     "output_type": "execute_result"
    }
   ],
   "source": [
    "query = \"Memory in agents\"\n",
    "sub_docs = vectorstore.similarity_search(query,k=1)\n",
    "sub_docs[0]"
   ]
  },
  {
   "cell_type": "code",
   "execution_count": 14,
   "metadata": {},
   "outputs": [
    {
     "data": {
      "text/plain": [
       "\"\\n\\n\\n\\n\\n\\nLLM Powered Autonomous Agents | Lil'Log\\n\\n\\n\\n\\n\\n\\n\\n\\n\\n\\n\\n\\n\\n\\n\\n\\n\\n\\n\\n\\n\\n\\n\\n\\n\\n\\n\\n\\n\\n\\n\\n\\n\\n\\n\\n\\n\\n\\n\\nLil'Log\\n\\n\\n\\n\\n\\n\\n\\n\\n\\n\\n\\n\\n\\n\\n\\n\\n\\n|\\n\\n\\n\\n\\n\\n\\nPosts\\n\\n\\n\\n\\nArchive\\n\\n\\n\\n\\nSearch\\n\\n\\n\\n\\nTags\\n\\n\\n\\n\\nFAQ\\n\\n\\n\\n\\nemojisearch.app\\n\\n\\n\\n\\n\\n\\n\\n\\n\\n      LLM Powered Autonomous Agents\\n    \\nDate: June 23, 2023  |  Estimated Reading Time: 31 min  |  Author: Lilian Weng\\n\\n\\n \\n\\n\\nTable of Contents\\n\\n\\n\\nAgent System Overview\\n\\nComponent One: Planning\\n\\nTask Decomposition\\n\\nSelf-Reflection\\n\\n\\nComponent Two: Memory\\n\\nTypes of Memory\\n\\nMaximum Inner Product Search (MIPS\""
      ]
     },
     "execution_count": 14,
     "metadata": {},
     "output_type": "execute_result"
    }
   ],
   "source": [
    "retrieved_docs = retriever.get_relevant_documents(query,n_results=1)\n",
    "retrieved_docs[0].page_content[0:500]"
   ]
  }
 ],
 "metadata": {
  "kernelspec": {
   "display_name": "venv",
   "language": "python",
   "name": "python3"
  },
  "language_info": {
   "codemirror_mode": {
    "name": "ipython",
    "version": 3
   },
   "file_extension": ".py",
   "mimetype": "text/x-python",
   "name": "python",
   "nbconvert_exporter": "python",
   "pygments_lexer": "ipython3",
   "version": "3.12.3"
  }
 },
 "nbformat": 4,
 "nbformat_minor": 2
}
